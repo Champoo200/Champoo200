{
  "nbformat": 4,
  "nbformat_minor": 0,
  "metadata": {
    "colab": {
      "name": "Notas de clase 1 .ipynb",
      "provenance": [],
      "collapsed_sections": [],
      "authorship_tag": "ABX9TyPo+JBNYJkz2rN0iQveVaQP",
      "include_colab_link": true
    },
    "kernelspec": {
      "name": "python3",
      "display_name": "Python 3"
    },
    "language_info": {
      "name": "python"
    }
  },
  "cells": [
    {
      "cell_type": "markdown",
      "metadata": {
        "id": "view-in-github",
        "colab_type": "text"
      },
      "source": [
        "<a href=\"https://colab.research.google.com/github/Champoo200/Champoo200/blob/main/Notas_de_clase_1_.ipynb\" target=\"_parent\"><img src=\"https://colab.research.google.com/assets/colab-badge.svg\" alt=\"Open In Colab\"/></a>"
      ]
    },
    {
      "cell_type": "markdown",
      "source": [
        "**Notas de clase 20/06/2022**"
      ],
      "metadata": {
        "id": "mSitO0wvwecR"
      }
    },
    {
      "cell_type": "code",
      "source": [
        "#Operaciones con cadenas\n",
        "\n",
        "Saludo = \"Hola Cuvalles\" + \" Hassel\" + \" Yabin\"\n",
        "\n",
        "#Variables\n",
        "\n",
        "Edad = 24\n",
        "\n",
        "print(Saludo, Edad)\n",
        "\n",
        "nombre = input(\"Hola dame tu nombre \")\n",
        "print(\"Gracias\", nombre)\n",
        "\n",
        "#Casting\n",
        "\n",
        "edad = int(input(\"Dame tu edad y presiona enter \"))\n",
        "edad = edad + 1\n",
        "print(\"Tu edad es\", str(edad))\n"
      ],
      "metadata": {
        "colab": {
          "base_uri": "https://localhost:8080/"
        },
        "id": "ZOqEZ9T9wn_M",
        "outputId": "428ab68b-f36c-4008-b983-8213de0a16ff"
      },
      "execution_count": 11,
      "outputs": [
        {
          "output_type": "stream",
          "name": "stdout",
          "text": [
            "Hola Cuvalles Hassel Yabin 24\n",
            "Hola dame tu nombre Hassel Yabin\n",
            "Gracias Hassel Yabin\n",
            "Dame tu edad y presiona enter 21\n",
            "Tu edad es 22\n"
          ]
        }
      ]
    }
  ]
}